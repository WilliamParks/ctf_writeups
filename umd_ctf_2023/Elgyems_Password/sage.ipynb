{
 "cells": [
  {
   "cell_type": "code",
   "execution_count": null,
   "id": "ea11cd3d",
   "metadata": {},
   "outputs": [],
   "source": [
    "with open('outputs.txt') as f:\n",
    "    data = f.read()\n",
    "output_array = []\n",
    "for l in data.split():\n",
    "    output_array.append(QQ(l))\n",
    "target = Matrix(QQ, output_array)"
   ]
  },
  {
   "cell_type": "code",
   "execution_count": null,
   "id": "3b1c9c65",
   "metadata": {},
   "outputs": [],
   "source": [
    "with open(\"model.txt\") as f:\n",
    "    model_data = f.read()\n",
    "found_vals = []\n",
    "model_weights = []\n",
    "model_biases = []\n",
    "for l in model_data.splitlines():\n",
    "    if \"layer\" in l:\n",
    "        layer = int(l[5])\n",
    "        if layer > 1:\n",
    "            model_weights.append(Matrix(QQ, found_vals).transpose())\n",
    "            found_vals = []\n",
    "    elif \"biases\" in l:\n",
    "        pass\n",
    "    elif \"weights\" in l:\n",
    "        if len(found_vals) > 0:\n",
    "            model_biases.append(Matrix(QQ, found_vals))    \n",
    "            found_vals = []\n",
    "    else:\n",
    "        temp = []\n",
    "        for i in l.split():\n",
    "            temp.append(QQ(i))\n",
    "        found_vals.append(temp)\n",
    "        \n",
    "        \n",
    "model_weights.append(Matrix(QQ, found_vals).transpose())\n",
    "assert len(model_biases) == len(model_weights)\n"
   ]
  },
  {
   "cell_type": "code",
   "execution_count": null,
   "id": "2d8fe609",
   "metadata": {},
   "outputs": [],
   "source": [
    "foo = []\n",
    "for i in range(22):\n",
    "    foo.append(QQ(i/2))\n",
    "test_input = Matrix(QQ, foo)"
   ]
  },
  {
   "cell_type": "code",
   "execution_count": null,
   "id": "e02dd52d",
   "metadata": {},
   "outputs": [],
   "source": [
    "def forward(input):\n",
    "    a = test_input * model_weights[0] + model_biases[0]\n",
    "    b = a * model_weights[1] + model_biases[1]\n",
    "    c = b * model_weights[2] + model_biases[2]\n",
    "    d = c * model_weights[3] + model_biases[3]\n",
    "    e = d * model_weights[4] + model_biases[4]\n",
    "    f = e * model_weights[5] + model_biases[5]\n",
    "    return f"
   ]
  },
  {
   "cell_type": "code",
   "execution_count": null,
   "id": "ba04b928",
   "metadata": {},
   "outputs": [],
   "source": [
    "big_w = model_weights[0]\n",
    "for i in range(1, len(model_weights)):\n",
    "    big_w = big_w * model_weights[i]\n",
    "big_w"
   ]
  },
  {
   "cell_type": "code",
   "execution_count": null,
   "id": "2e5e1964",
   "metadata": {},
   "outputs": [],
   "source": [
    "big_b = matrix(1,37)\n",
    "for i in range(6):\n",
    "    temp = model_biases[i]\n",
    "    for j in range(i+1, 6):\n",
    "        temp *= model_weights[j]\n",
    "    big_b += temp\n",
    "    "
   ]
  },
  {
   "cell_type": "code",
   "execution_count": null,
   "id": "fc30b593",
   "metadata": {},
   "outputs": [],
   "source": [
    "big_w.str()"
   ]
  },
  {
   "cell_type": "code",
   "execution_count": null,
   "id": "975c3d4a",
   "metadata": {},
   "outputs": [],
   "source": [
    "big_b.str()"
   ]
  },
  {
   "cell_type": "code",
   "execution_count": null,
   "id": "6b2e8c38",
   "metadata": {},
   "outputs": [],
   "source": [
    "def mse(a, b):\n",
    "    diff = a - b\n",
    "    r = 0\n",
    "    for i in diff:\n",
    "        r += i * i\n",
    "    return float(r / diff.nrows())"
   ]
  },
  {
   "cell_type": "code",
   "execution_count": null,
   "id": "ffe2aa84",
   "metadata": {},
   "outputs": [],
   "source": [
    "def each_round(output):\n",
    "    a = model_weights[5].solve_left(output - model_biases[5])\n",
    "    print(\"a\")\n",
    "    for i in range(4, -1, -1):\n",
    "        print(\"b\")\n",
    "        a = model_weights[i].solve_left(a - model_biases[i])\n",
    "    return a"
   ]
  },
  {
   "cell_type": "code",
   "execution_count": null,
   "id": "517dc2e8",
   "metadata": {},
   "outputs": [],
   "source": [
    "pred_a = forward(test_input)\n",
    "pred_b = test_input * big_w + big_b\n",
    "print(mse(pred_a, pred_b))\n",
    "test_input_calc = big_w.solve_left(pred_a - big_b)\n",
    "print(mse(forward(test_input_calc), forward(test_input)))\n",
    "print(\"Forward mse\", mse(forward(test_input_calc), forward(test_input)))\n",
    "print(\"Test mse\", mse(test_input, test_input_calc))\n"
   ]
  },
  {
   "cell_type": "code",
   "execution_count": null,
   "id": "a875bcd9",
   "metadata": {},
   "outputs": [],
   "source": [
    "win = big_w.solve_left(target - big_b)\n",
    "win"
   ]
  },
  {
   "cell_type": "code",
   "execution_count": null,
   "id": "bf19f899",
   "metadata": {},
   "outputs": [],
   "source": [
    "win * big_w + big_b == target"
   ]
  },
  {
   "cell_type": "code",
   "execution_count": null,
   "id": "4e251f2d",
   "metadata": {},
   "outputs": [],
   "source": [
    "print(mse(forward(test_input), test_input * big_w + big_b))\n",
    "print(mse(forward(win), win * big_w + big_b))\n",
    "print(mse(forward(win), target))\n",
    "print(test_input.nrows(), test_input.ncols(), type(win))\n",
    "print(win.nrows(), win.ncols(), type(win))"
   ]
  },
  {
   "cell_type": "code",
   "execution_count": null,
   "id": "951bfbc7",
   "metadata": {},
   "outputs": [],
   "source": [
    "test_pred = forward(test_input)\n",
    "other_test_pred = test_input * big_w + big_b\n",
    "calc_test_input = big_w.solve_left(test_pred - big_b)\n",
    "print(\"err forward\", mse(test_pred, other_test_pred))\n",
    "print(\"err calc\", mse(test_input, calc_test_input))\n",
    "calc_test_input"
   ]
  },
  {
   "cell_type": "code",
   "execution_count": null,
   "id": "b090a2ba",
   "metadata": {},
   "outputs": [],
   "source": []
  }
 ],
 "metadata": {
  "kernelspec": {
   "display_name": "SageMath 9.8",
   "language": "sage",
   "name": "sagemath-9.8"
  },
  "language_info": {
   "codemirror_mode": {
    "name": "ipython",
    "version": 3
   },
   "file_extension": ".py",
   "mimetype": "text/x-python",
   "name": "python",
   "nbconvert_exporter": "python",
   "pygments_lexer": "ipython3",
   "version": "3.11.1"
  }
 },
 "nbformat": 4,
 "nbformat_minor": 5
}
